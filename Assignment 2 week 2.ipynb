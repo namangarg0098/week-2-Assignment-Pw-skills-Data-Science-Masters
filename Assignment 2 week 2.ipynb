{
 "cells": [
  {
   "cell_type": "markdown",
   "id": "1969d9e4-e2be-4c8e-ba99-085c6d78bfc2",
   "metadata": {},
   "source": [
    "Q1 - How do you comment in python ? what are the different types of comments?"
   ]
  },
  {
   "cell_type": "code",
   "execution_count": null,
   "id": "4dc64457-660f-4e9c-8bb3-1b35ab51c0e8",
   "metadata": {},
   "outputs": [],
   "source": [
    "# There are two types of comment in python \n",
    "# 1) single line comment by using # \n",
    "# 2) multiline comment by using triple courts (''' ''') or (\"\"\" \"\"\")\n",
    "# example of single line comment \n",
    "# my name is naman garg \n",
    "\n",
    "# example of multiline comment is \n",
    "\"\"\"this is a comment \n",
    "by which i can show you \n",
    "how to perform multiline comment\"\"\"\n"
   ]
  },
  {
   "cell_type": "markdown",
   "id": "533ee325-654a-4edf-a2d4-abb19c92d643",
   "metadata": {},
   "source": [
    "Q2 - What are variables in python? How do you declare and assingn values to variables?"
   ]
  },
  {
   "cell_type": "code",
   "execution_count": 6,
   "id": "cedd7f0f-f036-4e8e-835a-fad3a6649d50",
   "metadata": {},
   "outputs": [
    {
     "name": "stdout",
     "output_type": "stream",
     "text": [
      "SDMN VIDYA MANDIR SCHOOL\n",
      "Naman\n"
     ]
    }
   ],
   "source": [
    "''' A variable is used to retrieve the stored data, and its value may change during the program. We use the “=” operator for value assignment. we can assign\n",
    "different types of values such as numbers, strings, or objects to variables ''' \n",
    "\n",
    "# Example\n",
    "school = 'SDMN VIDYA MANDIR SCHOOL'\n",
    "student_name = 'Naman'\n",
    "\n",
    "# Here we have made two variables school and student_name and we have assign tbe varables values as SDMN VADYA MANDIR SCHOOL and Naman.\n",
    "# now we can use print command to print the variables that he have made upper\n",
    "\n",
    "print(school)\n",
    "print(student_name)"
   ]
  },
  {
   "cell_type": "markdown",
   "id": "c202b531-eb61-430a-890a-b6a2cafc855c",
   "metadata": {},
   "source": [
    "Q3 - How do you convert one data type to another in Python ?"
   ]
  },
  {
   "cell_type": "code",
   "execution_count": 15,
   "id": "a987c793-f51c-48e6-83c4-1f6eca0c3c20",
   "metadata": {},
   "outputs": [
    {
     "name": "stdout",
     "output_type": "stream",
     "text": [
      "100\n",
      "<class 'str'>\n",
      "100\n",
      "<class 'int'>\n",
      "78\n",
      "<class 'int'>\n",
      "78.0\n",
      "<class 'float'>\n"
     ]
    }
   ],
   "source": [
    "# We Can easily convert one data type to another data type in python by using type conversion.\n",
    "# for example -:\n",
    "\n",
    "# 1. int() - this function convert one value data type to integer data type \n",
    "# Example -\n",
    "string = \"100\"\n",
    "n = int(string)\n",
    "print(string)\n",
    "print(type(string))\n",
    "print(n)\n",
    "print(type(n))\n",
    "# Here we have converted string data type into integer data type\n",
    "\n",
    "# 2. float() - this function convert one value data type to float data type\n",
    "# Example -\n",
    "number = 78\n",
    "f = float(number)\n",
    "print(number)\n",
    "print(type(number))\n",
    "print(f)\n",
    "print(type(f))\n",
    "# Here we converted integer data type into flaot data type \n",
    "\n",
    "# same way we can do many more type conversion of data types from one to another\n",
    "# list(), set(), float(), str(), int(), tuple()"
   ]
  },
  {
   "cell_type": "markdown",
   "id": "4966e917-f459-43af-9fa3-9d39f1d4a2ee",
   "metadata": {},
   "source": [
    "Q4 - How do you write and execute a Python script from the command line?"
   ]
  },
  {
   "cell_type": "code",
   "execution_count": 16,
   "id": "49322910-e6f5-4598-9dec-81739a2328d0",
   "metadata": {},
   "outputs": [],
   "source": [
    "# The most easiest way to run the Python script is by using the python command \n",
    "# you need to open  a command line and type the word python followed by the path to your script file like this: python first_script.py Hello World!\n",
    "# Then you hit the ENTER button from the keyboard, and that's it."
   ]
  },
  {
   "cell_type": "markdown",
   "id": "638ccdf4-60df-4133-bf30-5c975046886b",
   "metadata": {},
   "source": [
    "Q5 - Given a list my_list = [1,2,3,4,5] Write the code to slice the list and obtain the sub-list [2,3]"
   ]
  },
  {
   "cell_type": "code",
   "execution_count": 22,
   "id": "a50f4e80-0227-4d05-bf89-0d08101e319a",
   "metadata": {},
   "outputs": [
    {
     "data": {
      "text/plain": [
       "[2, 3]"
      ]
     },
     "execution_count": 22,
     "metadata": {},
     "output_type": "execute_result"
    }
   ],
   "source": [
    "my_list = [1,2,3,4,5]\n",
    "my_list[1:3:1]"
   ]
  },
  {
   "cell_type": "markdown",
   "id": "118373a9-a3f3-4234-9c52-57f2de4c70a4",
   "metadata": {},
   "source": [
    "Q6 - What is complex number in mathematics, and how it is represented in python?"
   ]
  },
  {
   "cell_type": "code",
   "execution_count": 24,
   "id": "33f6044f-3ce6-4ae7-850a-06c7a62890d1",
   "metadata": {},
   "outputs": [
    {
     "name": "stdout",
     "output_type": "stream",
     "text": [
      "<class 'complex'>\n"
     ]
    }
   ],
   "source": [
    "# Complex numbers are the numbers that are expressed in the form of a+ib where, a,b are real numbers and 'i' is an imaginary number called “iota”\n",
    "\n",
    "# complex number represented in python like -:\n",
    "c = 4 + 7j\n",
    "print(type(c))\n",
    "\n",
    "# variable name j is must to represent imaginary number in python "
   ]
  },
  {
   "cell_type": "markdown",
   "id": "ad554c19-1b1c-499c-8e22-a4f2e87af4b8",
   "metadata": {},
   "source": [
    "Q7 - What is the correct way to declare a variable named age and assign the value 25 to it ?"
   ]
  },
  {
   "cell_type": "code",
   "execution_count": 27,
   "id": "3d54539a-87d7-4a2f-bcfa-a536ed12e150",
   "metadata": {},
   "outputs": [],
   "source": [
    "age = 25 "
   ]
  },
  {
   "cell_type": "markdown",
   "id": "54ea6d46-9ca2-4717-a89a-5ac1331ba0ab",
   "metadata": {},
   "source": [
    "Q8 - Declare a variable named price and assign the value 9.99 to it. What data type does this variable belong to?"
   ]
  },
  {
   "cell_type": "code",
   "execution_count": 28,
   "id": "18593988-0a98-4a58-9d50-e6fdd22db18d",
   "metadata": {},
   "outputs": [
    {
     "data": {
      "text/plain": [
       "float"
      ]
     },
     "execution_count": 28,
     "metadata": {},
     "output_type": "execute_result"
    }
   ],
   "source": [
    "price = 9.99\n",
    "type(price)"
   ]
  },
  {
   "cell_type": "markdown",
   "id": "30fd39fe-e838-44dd-8975-da400526a25e",
   "metadata": {},
   "source": [
    "Q9 - Create a variable named name and assign your full name to it as a string. How would you print the value of this variable?"
   ]
  },
  {
   "cell_type": "code",
   "execution_count": 29,
   "id": "42decf8f-474d-465d-b955-48cf0715b935",
   "metadata": {},
   "outputs": [
    {
     "name": "stdout",
     "output_type": "stream",
     "text": [
      "Naman Garg\n"
     ]
    }
   ],
   "source": [
    "name = \"Naman Garg\"\n",
    "print(name)"
   ]
  },
  {
   "cell_type": "markdown",
   "id": "68905f68-14df-4fd3-b22d-c8ba53c95e6b",
   "metadata": {},
   "source": [
    "Q10 - Given the string \"Hello, World!\", extract the substring \"World\"."
   ]
  },
  {
   "cell_type": "code",
   "execution_count": 34,
   "id": "6b5f1315-38c1-4879-bd1f-5e6366843b05",
   "metadata": {},
   "outputs": [
    {
     "data": {
      "text/plain": [
       "'World'"
      ]
     },
     "execution_count": 34,
     "metadata": {},
     "output_type": "execute_result"
    }
   ],
   "source": [
    "a = \"Hello, World!\"\n",
    "a[7:12:1]"
   ]
  },
  {
   "cell_type": "markdown",
   "id": "dc7c6dc6-bb6e-41a9-8347-37e3321c88fc",
   "metadata": {},
   "source": [
    "Q11 - Create a variable named \"is_student\" and assign it a boolean value indicating whether you are currently a student or not."
   ]
  },
  {
   "cell_type": "code",
   "execution_count": 35,
   "id": "61525d2f-cfa5-46fd-9cc7-d17f808a531a",
   "metadata": {},
   "outputs": [],
   "source": [
    "is_student = True \n",
    " # Here i have created a variable named is_student and assign it a boolean True that indicates that i am currently a student "
   ]
  },
  {
   "cell_type": "code",
   "execution_count": 40,
   "id": "dc0aaa17-39f9-404c-b60c-385f2442f06a",
   "metadata": {},
   "outputs": [
    {
     "data": {
      "text/plain": [
       "True"
      ]
     },
     "execution_count": 40,
     "metadata": {},
     "output_type": "execute_result"
    }
   ],
   "source": [
    "True == 1"
   ]
  },
  {
   "cell_type": "code",
   "execution_count": null,
   "id": "cc85535f-5e1e-44e0-af68-4ea580154c4e",
   "metadata": {},
   "outputs": [],
   "source": []
  },
  {
   "cell_type": "code",
   "execution_count": null,
   "id": "9e9dee5d-66fb-4028-9ccd-789e2965a123",
   "metadata": {},
   "outputs": [],
   "source": []
  },
  {
   "cell_type": "code",
   "execution_count": null,
   "id": "e661d810-9ea4-4bd6-a781-941b4e6733c8",
   "metadata": {},
   "outputs": [],
   "source": []
  },
  {
   "cell_type": "code",
   "execution_count": null,
   "id": "8205670e-9fd7-41ca-97d1-f4d7fd900deb",
   "metadata": {},
   "outputs": [],
   "source": []
  },
  {
   "cell_type": "code",
   "execution_count": null,
   "id": "c193529d-aaa7-4c3a-b110-50482db589ab",
   "metadata": {},
   "outputs": [],
   "source": []
  },
  {
   "cell_type": "code",
   "execution_count": null,
   "id": "2f297228-0e7f-4472-9e3e-9abe070994f4",
   "metadata": {},
   "outputs": [],
   "source": []
  },
  {
   "cell_type": "code",
   "execution_count": null,
   "id": "efca55f0-e9a2-484c-9417-3f2acabe36af",
   "metadata": {},
   "outputs": [],
   "source": []
  },
  {
   "cell_type": "code",
   "execution_count": null,
   "id": "ba09cb94-5505-4cb8-b484-1c337d90dc3b",
   "metadata": {},
   "outputs": [],
   "source": []
  },
  {
   "cell_type": "code",
   "execution_count": null,
   "id": "6bb6e14c-4fe3-4080-b2d7-79dbc9325e82",
   "metadata": {},
   "outputs": [],
   "source": []
  },
  {
   "cell_type": "code",
   "execution_count": null,
   "id": "8a2c0659-4b1e-4db7-b0c6-478b5da4f1aa",
   "metadata": {},
   "outputs": [],
   "source": []
  },
  {
   "cell_type": "code",
   "execution_count": null,
   "id": "5d9851f6-0385-478c-96e2-aa2d78b0df84",
   "metadata": {},
   "outputs": [],
   "source": []
  },
  {
   "cell_type": "code",
   "execution_count": null,
   "id": "40c5190f-85ad-4248-8477-5272e778966e",
   "metadata": {},
   "outputs": [],
   "source": []
  },
  {
   "cell_type": "code",
   "execution_count": null,
   "id": "61b3cbeb-6392-42e5-9b7c-544372672f36",
   "metadata": {},
   "outputs": [],
   "source": []
  },
  {
   "cell_type": "code",
   "execution_count": null,
   "id": "55a9b68b-8b47-42d9-9dde-59e1a85dd49c",
   "metadata": {},
   "outputs": [],
   "source": []
  },
  {
   "cell_type": "code",
   "execution_count": null,
   "id": "9117e935-d04f-42c3-af83-69c1ac872d6e",
   "metadata": {},
   "outputs": [],
   "source": []
  },
  {
   "cell_type": "code",
   "execution_count": null,
   "id": "a61fded6-7f88-4ad5-b67e-6f98360a91d2",
   "metadata": {},
   "outputs": [],
   "source": []
  },
  {
   "cell_type": "code",
   "execution_count": null,
   "id": "bb5699fc-4acd-4180-9b36-1869df1d0d48",
   "metadata": {},
   "outputs": [],
   "source": []
  },
  {
   "cell_type": "code",
   "execution_count": null,
   "id": "1313c75f-473f-48c1-86d0-2c95f5aaadd0",
   "metadata": {},
   "outputs": [],
   "source": []
  },
  {
   "cell_type": "code",
   "execution_count": null,
   "id": "daee3845-7f9c-4c78-abef-6f614c7a3c09",
   "metadata": {},
   "outputs": [],
   "source": []
  },
  {
   "cell_type": "code",
   "execution_count": null,
   "id": "33215c06-6199-410b-8ec7-f6dc26418675",
   "metadata": {},
   "outputs": [],
   "source": []
  },
  {
   "cell_type": "code",
   "execution_count": null,
   "id": "aa79a9b3-a840-4356-b045-35a8927d3a62",
   "metadata": {},
   "outputs": [],
   "source": []
  },
  {
   "cell_type": "code",
   "execution_count": null,
   "id": "be8993ee-b1f0-4a09-9601-5f0fd14e5509",
   "metadata": {},
   "outputs": [],
   "source": []
  },
  {
   "cell_type": "code",
   "execution_count": null,
   "id": "eb17a5fd-e609-47a2-8f24-ecf1fe68a598",
   "metadata": {},
   "outputs": [],
   "source": []
  },
  {
   "cell_type": "code",
   "execution_count": null,
   "id": "ca3d8336-2e42-46e5-a103-ad00bda7fc54",
   "metadata": {},
   "outputs": [],
   "source": []
  },
  {
   "cell_type": "code",
   "execution_count": null,
   "id": "816d6610-c141-4d7b-b6e2-3f6a97ecfc5f",
   "metadata": {},
   "outputs": [],
   "source": []
  },
  {
   "cell_type": "code",
   "execution_count": null,
   "id": "fc9dd2ca-4028-4d45-a8bc-f37688dac112",
   "metadata": {},
   "outputs": [],
   "source": []
  },
  {
   "cell_type": "code",
   "execution_count": null,
   "id": "fc677011-e895-44a4-91ff-f9bd8b51f06e",
   "metadata": {},
   "outputs": [],
   "source": []
  },
  {
   "cell_type": "code",
   "execution_count": null,
   "id": "72448a8d-129c-48e0-8d6f-84bb599fc9ab",
   "metadata": {},
   "outputs": [],
   "source": []
  },
  {
   "cell_type": "code",
   "execution_count": null,
   "id": "1e126e78-e56a-4af5-b44c-116231e946f9",
   "metadata": {},
   "outputs": [],
   "source": []
  },
  {
   "cell_type": "code",
   "execution_count": null,
   "id": "d8421254-2b97-425b-87f6-65f56ecdf021",
   "metadata": {},
   "outputs": [],
   "source": []
  },
  {
   "cell_type": "code",
   "execution_count": null,
   "id": "6ae3faac-cc9e-460f-b4f8-91c5ee6766a6",
   "metadata": {},
   "outputs": [],
   "source": []
  }
 ],
 "metadata": {
  "kernelspec": {
   "display_name": "Python 3 (ipykernel)",
   "language": "python",
   "name": "python3"
  },
  "language_info": {
   "codemirror_mode": {
    "name": "ipython",
    "version": 3
   },
   "file_extension": ".py",
   "mimetype": "text/x-python",
   "name": "python",
   "nbconvert_exporter": "python",
   "pygments_lexer": "ipython3",
   "version": "3.10.8"
  }
 },
 "nbformat": 4,
 "nbformat_minor": 5
}
